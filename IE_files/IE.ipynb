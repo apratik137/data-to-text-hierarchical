{
  "cells": [
    {
      "cell_type": "code",
      "execution_count": null,
      "metadata": {
        "id": "Luf7BOF1p8lG"
      },
      "outputs": [],
      "source": [
        "!cp /content/drive/MyDrive/rotowire-rg-metric.zip /content/"
      ]
    },
    {
      "cell_type": "code",
      "execution_count": null,
      "metadata": {
        "id": "A2mlBeZpfWtD"
      },
      "outputs": [],
      "source": [
        "!unzip /content/rotowire-rg-metric.zip"
      ]
    },
    {
      "cell_type": "code",
      "execution_count": null,
      "metadata": {
        "id": "ClecKIHzv5k1"
      },
      "outputs": [],
      "source": [
        "%cd /content/rotowire-rg-metric"
      ]
    },
    {
      "cell_type": "code",
      "execution_count": null,
      "metadata": {
        "id": "4PnhzThkwHC9"
      },
      "outputs": [],
      "source": [
        "!ls"
      ]
    },
    {
      "cell_type": "code",
      "execution_count": null,
      "metadata": {
        "id": "GWK-eE9vwJdr"
      },
      "outputs": [],
      "source": [
        "!pip install -r requirements.txt"
      ]
    },
    {
      "cell_type": "code",
      "execution_count": null,
      "metadata": {
        "id": "t-qyls450DOy"
      },
      "outputs": [],
      "source": [
        "!pip install torch==1.9.0+cu111 -f https://download.pytorch.org/whl/torch_stable.html"
      ]
    },
    {
      "cell_type": "code",
      "execution_count": null,
      "metadata": {
        "id": "qyI69F6Oz8ZJ"
      },
      "outputs": [],
      "source": [
        "import torch\n",
        "torch.__version__"
      ]
    },
    {
      "cell_type": "code",
      "execution_count": null,
      "metadata": {
        "id": "bh_H6EQcflQW"
      },
      "outputs": [],
      "source": [
        "%cd /content/rotowire-rg-metric"
      ]
    },
    {
      "cell_type": "code",
      "execution_count": null,
      "metadata": {
        "id": "vKSIfU5XwOpW"
      },
      "outputs": [],
      "source": [
        "# !python run.py --just-eval --datafile data/rotowire/output/training-data.h5 --preddata data/rotowire/output/prep_predictions_label.h5 --eval-models data/rotowire/models --gpu 0 --test --ignore-idx 1 --vocab-prefix data/rotowire/output/training-data --store-results data/rotowire/output/scores_true.json --show-correctness"
      ]
    },
    {
      "cell_type": "code",
      "execution_count": null,
      "metadata": {
        "id": "GZ6sw3xWKdBu"
      },
      "outputs": [],
      "source": [
        "# !python run.py --just-eval --datafile data/rotowire/output/training-data.h5 --preddata data/rotowire/output/unit_post.h5 --eval-models data/rotowire/models --gpu 0 --test --ignore-idx 1 --vocab-prefix data/rotowire/output/training-data --store-results data/rotowire/output/scores_unit.json --show-correctness"
      ]
    },
    {
      "cell_type": "code",
      "execution_count": null,
      "metadata": {
        "id": "sMkCebynrWpT"
      },
      "outputs": [],
      "source": [
        "# !python non_rg_metrics.py /content/rotowire-rg-metric/data/rotowire/output/prep_predictions_label.h5-tuples.txt /content/rotowire-rg-metric/data/rotowire/output/prep_predictions_label.h5-tuples.txt"
      ]
    },
    {
      "cell_type": "code",
      "execution_count": null,
      "metadata": {
        "colab": {
          "base_uri": "https://localhost:8080/"
        },
        "id": "tjduKLimsGIx",
        "outputId": "98852da6-1cc6-481e-9d07-8462d3a108ff"
      },
      "outputs": [
        {
          "output_type": "stream",
          "name": "stdout",
          "text": [
            "[2022-12-09 04:50:30,777 INFO] Current run is using seed=11711 and cuda:0\n",
            "[2022-12-09 04:50:30,778 INFO] Reading file: data/rotowire/output/training-data.h5\n",
            "Train_data Dataset(n_examples=180247)\n",
            "Emb_sizes [200, 100, 100]\n",
            "Vocal sizes [tensor(5397), tensor(187), tensor(192)]\n",
            "Vocab sizes [tensor(5397), tensor(187), tensor(192)]\n",
            "Emb_sizes [200, 100, 100]\n",
            "Hidden_dim 700\n",
            "Nlabels 34\n",
            "[2022-12-09 04:50:31,400 INFO] RecurrentRgModel(\n",
            "  (embeddings): JointEmbeddings(\n",
            "    (embeddings): ModuleList(\n",
            "      (0): Embedding(5397, 200)\n",
            "      (1): Embedding(187, 100)\n",
            "      (2): Embedding(192, 100)\n",
            "    )\n",
            "  )\n",
            "  (rnn): LSTM(400, 400, num_layers=2, bidirectional=True)\n",
            "  (linear): Sequential(\n",
            "    (0): Linear(in_features=800, out_features=700, bias=True)\n",
            "    (1): ReLU()\n",
            "    (2): Dropout(p=0.5, inplace=False)\n",
            "    (3): Linear(in_features=700, out_features=34, bias=True)\n",
            "  )\n",
            ")\n",
            "  0% 0/10 [00:00<?, ?it/s]\n",
            "  0% 0/5633 [00:00<?, ?it/s]\u001b[AHERE\n",
            "torch.Size([32, 57])\n",
            "torch.Size([32, 57])\n",
            "torch.Size([32, 57])\n",
            "Input 3\n",
            "embedded_inputs torch.Size([57, 32, 400])\n",
            "Outputs torch.Size([32, 800])\n",
            "Outputs torch.Size([32, 34])\n",
            "  0% 0/5633 [00:00<?, ?it/s]\n",
            "  0% 0/10 [00:00<?, ?it/s]\n"
          ]
        }
      ],
      "source": [
        "#TRAINING\n",
        "\n",
        "!python run.py \\\n",
        "       --datafile data/rotowire/output/training-data.h5 \\\n",
        "       --save-directory data/rotowire/train_models_new_arch_11711 \\\n",
        "       --model lstm \\\n",
        "       --gpu 0 \\\n",
        "       --num-epochs 10 \\\n",
        "       --batch-size 32 \\\n",
        "       --embedding-size 200 \\\n",
        "       --hidden-dim 700 \\\n",
        "       --lr 1 \\\n",
        "       --dropout 0.5 \\\n",
        "       --ignore-idx 1 \\\n",
        "       --seed 11711"
      ]
    },
    {
      "cell_type": "code",
      "execution_count": null,
      "metadata": {
        "id": "zimL_z0L1Ki9"
      },
      "outputs": [],
      "source": [
        "# !zip -r '/content/rotowire-rg-metric/data/rotowire/train_models_new_arch_42.zip' '/content/rotowire-rg-metric/data/rotowire/train_models_new_arch_42'"
      ]
    },
    {
      "cell_type": "code",
      "source": [
        "# !zip -r '/content/rotowire-rg-metric/data/rotowire/train_models_new_arch_11711.zip' '/content/rotowire-rg-metric/data/rotowire/train_models_new_arch_11711/'"
      ],
      "metadata": {
        "id": "WePDMRDfkwX4"
      },
      "execution_count": null,
      "outputs": []
    },
    {
      "cell_type": "code",
      "source": [],
      "metadata": {
        "id": "cuEBs9VPACWG"
      },
      "execution_count": null,
      "outputs": []
    }
  ],
  "metadata": {
    "accelerator": "GPU",
    "colab": {
      "provenance": []
    },
    "gpuClass": "premium",
    "kernelspec": {
      "display_name": "Python 3",
      "name": "python3"
    },
    "language_info": {
      "name": "python"
    }
  },
  "nbformat": 4,
  "nbformat_minor": 0
}